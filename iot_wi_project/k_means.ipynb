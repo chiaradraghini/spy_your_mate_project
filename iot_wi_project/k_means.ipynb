{
 "cells": [
  {
   "cell_type": "code",
   "execution_count": 73,
   "metadata": {},
   "outputs": [],
   "source": [
    "import matplotlib.pyplot as plt\n",
    "from sklearn.cluster import KMeans\n",
    "from sklearn.preprocessing import StandardScaler\n",
    "import numpy as np\n",
    "import pandas as pd\n",
    "from matplotlib import pyplot as plt\n",
    "from matplotlib.colors import ListedColormap\n",
    "from pprint import pprint\n",
    "import matplotlib.pyplot as mtp    "
   ]
  },
  {
   "cell_type": "code",
   "execution_count": 74,
   "metadata": {},
   "outputs": [
    {
     "data": {
      "text/html": [
       "<div>\n",
       "<style scoped>\n",
       "    .dataframe tbody tr th:only-of-type {\n",
       "        vertical-align: middle;\n",
       "    }\n",
       "\n",
       "    .dataframe tbody tr th {\n",
       "        vertical-align: top;\n",
       "    }\n",
       "\n",
       "    .dataframe thead th {\n",
       "        text-align: right;\n",
       "    }\n",
       "</style>\n",
       "<table border=\"1\" class=\"dataframe\">\n",
       "  <thead>\n",
       "    <tr style=\"text-align: right;\">\n",
       "      <th></th>\n",
       "      <th>Time Interval</th>\n",
       "      <th>Average Packet Size</th>\n",
       "      <th>Standard Deviation Packet Size</th>\n",
       "      <th>Median Packet Size</th>\n",
       "      <th>Average Packet Intervals</th>\n",
       "      <th>Standard Deviation Packet Intervals</th>\n",
       "      <th>Median Packet Intervals</th>\n",
       "      <th>Inbound Packets</th>\n",
       "      <th>Outbound Packets</th>\n",
       "      <th>Total Packets</th>\n",
       "    </tr>\n",
       "  </thead>\n",
       "  <tbody>\n",
       "    <tr>\n",
       "      <th>0</th>\n",
       "      <td>(0, 0.5)</td>\n",
       "      <td>956.114286</td>\n",
       "      <td>208.242569</td>\n",
       "      <td>1023.0</td>\n",
       "      <td>0.004413</td>\n",
       "      <td>0.005065</td>\n",
       "      <td>0.000492</td>\n",
       "      <td>47</td>\n",
       "      <td>58</td>\n",
       "      <td>105</td>\n",
       "    </tr>\n",
       "    <tr>\n",
       "      <th>1</th>\n",
       "      <td>(0.5, 1.0)</td>\n",
       "      <td>933.644928</td>\n",
       "      <td>241.450296</td>\n",
       "      <td>961.0</td>\n",
       "      <td>0.003510</td>\n",
       "      <td>0.004490</td>\n",
       "      <td>0.000742</td>\n",
       "      <td>77</td>\n",
       "      <td>61</td>\n",
       "      <td>138</td>\n",
       "    </tr>\n",
       "    <tr>\n",
       "      <th>2</th>\n",
       "      <td>(1.0, 1.5)</td>\n",
       "      <td>919.227273</td>\n",
       "      <td>252.522348</td>\n",
       "      <td>888.5</td>\n",
       "      <td>0.003205</td>\n",
       "      <td>0.004270</td>\n",
       "      <td>0.000585</td>\n",
       "      <td>95</td>\n",
       "      <td>59</td>\n",
       "      <td>154</td>\n",
       "    </tr>\n",
       "    <tr>\n",
       "      <th>3</th>\n",
       "      <td>(1.5, 2.0)</td>\n",
       "      <td>955.713115</td>\n",
       "      <td>227.083975</td>\n",
       "      <td>1078.0</td>\n",
       "      <td>0.004066</td>\n",
       "      <td>0.004688</td>\n",
       "      <td>0.001061</td>\n",
       "      <td>64</td>\n",
       "      <td>58</td>\n",
       "      <td>122</td>\n",
       "    </tr>\n",
       "    <tr>\n",
       "      <th>4</th>\n",
       "      <td>(2.0, 2.5)</td>\n",
       "      <td>929.561404</td>\n",
       "      <td>248.768508</td>\n",
       "      <td>1028.0</td>\n",
       "      <td>0.004378</td>\n",
       "      <td>0.004975</td>\n",
       "      <td>0.001581</td>\n",
       "      <td>61</td>\n",
       "      <td>53</td>\n",
       "      <td>114</td>\n",
       "    </tr>\n",
       "    <tr>\n",
       "      <th>...</th>\n",
       "      <td>...</td>\n",
       "      <td>...</td>\n",
       "      <td>...</td>\n",
       "      <td>...</td>\n",
       "      <td>...</td>\n",
       "      <td>...</td>\n",
       "      <td>...</td>\n",
       "      <td>...</td>\n",
       "      <td>...</td>\n",
       "      <td>...</td>\n",
       "    </tr>\n",
       "    <tr>\n",
       "      <th>1200</th>\n",
       "      <td>(600.0, 600.5)</td>\n",
       "      <td>1031.739583</td>\n",
       "      <td>321.145294</td>\n",
       "      <td>1131.0</td>\n",
       "      <td>0.004865</td>\n",
       "      <td>0.006184</td>\n",
       "      <td>0.000956</td>\n",
       "      <td>78</td>\n",
       "      <td>18</td>\n",
       "      <td>96</td>\n",
       "    </tr>\n",
       "    <tr>\n",
       "      <th>1201</th>\n",
       "      <td>(600.5, 601.0)</td>\n",
       "      <td>974.734043</td>\n",
       "      <td>331.268146</td>\n",
       "      <td>1108.5</td>\n",
       "      <td>0.005336</td>\n",
       "      <td>0.006885</td>\n",
       "      <td>0.001814</td>\n",
       "      <td>73</td>\n",
       "      <td>21</td>\n",
       "      <td>94</td>\n",
       "    </tr>\n",
       "    <tr>\n",
       "      <th>1202</th>\n",
       "      <td>(601.0, 601.5)</td>\n",
       "      <td>993.343434</td>\n",
       "      <td>331.198755</td>\n",
       "      <td>1126.0</td>\n",
       "      <td>0.004406</td>\n",
       "      <td>0.006043</td>\n",
       "      <td>0.001021</td>\n",
       "      <td>80</td>\n",
       "      <td>19</td>\n",
       "      <td>99</td>\n",
       "    </tr>\n",
       "    <tr>\n",
       "      <th>1203</th>\n",
       "      <td>(601.5, 602.0)</td>\n",
       "      <td>995.216495</td>\n",
       "      <td>317.852994</td>\n",
       "      <td>1118.0</td>\n",
       "      <td>0.004635</td>\n",
       "      <td>0.006014</td>\n",
       "      <td>0.000910</td>\n",
       "      <td>74</td>\n",
       "      <td>23</td>\n",
       "      <td>97</td>\n",
       "    </tr>\n",
       "    <tr>\n",
       "      <th>1204</th>\n",
       "      <td>(602.0, 602.5)</td>\n",
       "      <td>1012.032258</td>\n",
       "      <td>342.128709</td>\n",
       "      <td>1116.0</td>\n",
       "      <td>0.005251</td>\n",
       "      <td>0.007278</td>\n",
       "      <td>0.001742</td>\n",
       "      <td>72</td>\n",
       "      <td>21</td>\n",
       "      <td>93</td>\n",
       "    </tr>\n",
       "  </tbody>\n",
       "</table>\n",
       "<p>1205 rows × 10 columns</p>\n",
       "</div>"
      ],
      "text/plain": [
       "       Time Interval  Average Packet Size  Standard Deviation Packet Size  \\\n",
       "0           (0, 0.5)           956.114286                      208.242569   \n",
       "1         (0.5, 1.0)           933.644928                      241.450296   \n",
       "2         (1.0, 1.5)           919.227273                      252.522348   \n",
       "3         (1.5, 2.0)           955.713115                      227.083975   \n",
       "4         (2.0, 2.5)           929.561404                      248.768508   \n",
       "...              ...                  ...                             ...   \n",
       "1200  (600.0, 600.5)          1031.739583                      321.145294   \n",
       "1201  (600.5, 601.0)           974.734043                      331.268146   \n",
       "1202  (601.0, 601.5)           993.343434                      331.198755   \n",
       "1203  (601.5, 602.0)           995.216495                      317.852994   \n",
       "1204  (602.0, 602.5)          1012.032258                      342.128709   \n",
       "\n",
       "      Median Packet Size  Average Packet Intervals  \\\n",
       "0                 1023.0                  0.004413   \n",
       "1                  961.0                  0.003510   \n",
       "2                  888.5                  0.003205   \n",
       "3                 1078.0                  0.004066   \n",
       "4                 1028.0                  0.004378   \n",
       "...                  ...                       ...   \n",
       "1200              1131.0                  0.004865   \n",
       "1201              1108.5                  0.005336   \n",
       "1202              1126.0                  0.004406   \n",
       "1203              1118.0                  0.004635   \n",
       "1204              1116.0                  0.005251   \n",
       "\n",
       "      Standard Deviation Packet Intervals  Median Packet Intervals  \\\n",
       "0                                0.005065                 0.000492   \n",
       "1                                0.004490                 0.000742   \n",
       "2                                0.004270                 0.000585   \n",
       "3                                0.004688                 0.001061   \n",
       "4                                0.004975                 0.001581   \n",
       "...                                   ...                      ...   \n",
       "1200                             0.006184                 0.000956   \n",
       "1201                             0.006885                 0.001814   \n",
       "1202                             0.006043                 0.001021   \n",
       "1203                             0.006014                 0.000910   \n",
       "1204                             0.007278                 0.001742   \n",
       "\n",
       "      Inbound Packets  Outbound Packets  Total Packets  \n",
       "0                  47                58            105  \n",
       "1                  77                61            138  \n",
       "2                  95                59            154  \n",
       "3                  64                58            122  \n",
       "4                  61                53            114  \n",
       "...               ...               ...            ...  \n",
       "1200               78                18             96  \n",
       "1201               73                21             94  \n",
       "1202               80                19             99  \n",
       "1203               74                23             97  \n",
       "1204               72                21             93  \n",
       "\n",
       "[1205 rows x 10 columns]"
      ]
     },
     "execution_count": 74,
     "metadata": {},
     "output_type": "execute_result"
    }
   ],
   "source": [
    "file_path = '/Users/chiaradraghini/Documents/iot_wi_project/data/dataset/'\n",
    "dataframe = pd.read_csv(file_path+'Dataset_iotwi.csv')\n",
    "dataframe.drop(['Unnamed: 0'], axis=1, inplace=True)\n",
    "dataframe"
   ]
  },
  {
   "cell_type": "code",
   "execution_count": 75,
   "metadata": {},
   "outputs": [
    {
     "name": "stdout",
     "output_type": "stream",
     "text": [
      "             0         1         2         3         4         5         6  \\\n",
      "0    -0.090126 -1.017752 -0.289962  0.066554 -0.541637 -0.921972 -1.948106   \n",
      "1    -0.368968 -0.480722 -0.870026 -0.953856 -0.948054 -0.532813  0.440688   \n",
      "2    -0.547890 -0.301667 -1.548327 -1.299508 -1.103196 -0.777205  1.873965   \n",
      "3    -0.095104 -0.713052  0.224611 -0.325984 -0.808228 -0.037025 -0.594456   \n",
      "4    -0.419644 -0.362373 -0.243183  0.026374 -0.604804  0.773203 -0.833336   \n",
      "...        ...       ...       ...       ...       ...       ...       ...   \n",
      "1200  0.848377  0.808093  0.720472  0.577273  0.249799 -0.199694  0.520314   \n",
      "1201  0.140944  0.971798  0.509965  1.109943  0.745177  1.135121  0.122182   \n",
      "1202  0.371885  0.970676  0.673693  0.058398  0.150223 -0.098512  0.679567   \n",
      "1203  0.395129  0.754850  0.598846  0.317398  0.129136 -0.271299  0.201809   \n",
      "1204  0.603811  1.147433  0.580134  1.014031  1.022794  1.023821  0.042556   \n",
      "\n",
      "             7         8  \n",
      "0     0.611720 -0.505429  \n",
      "1     0.750931  0.972828  \n",
      "2     0.658124  1.689559  \n",
      "3     0.611720  0.256097  \n",
      "4     0.379701 -0.102268  \n",
      "...        ...       ...  \n",
      "1200 -1.244427 -0.908590  \n",
      "1201 -1.105216 -0.998182  \n",
      "1202 -1.198024 -0.774203  \n",
      "1203 -1.012409 -0.863794  \n",
      "1204 -1.105216 -1.042977  \n",
      "\n",
      "[1205 rows x 9 columns]\n"
     ]
    }
   ],
   "source": [
    "scaler = StandardScaler()\n",
    "cols_to_keep = [\"Average Packet Size\",\"Standard Deviation Packet Size\",\"Median Packet Size\",\"Average Packet Intervals\",\"Standard Deviation Packet Intervals\", \"Median Packet Intervals\" ,\"Inbound Packets\", \"Outbound Packets\",\"Total Packets\"]\n",
    "df_filtered = dataframe.loc[:,cols_to_keep]\n",
    "scaled_array = scaler.fit_transform(df_filtered)\n",
    "scaled_dataframe = pd.DataFrame(scaled_array)\n",
    "print(scaled_dataframe)"
   ]
  },
  {
   "cell_type": "code",
   "execution_count": 76,
   "metadata": {
    "scrolled": false
   },
   "outputs": [
    {
     "name": "stdout",
     "output_type": "stream",
     "text": [
      "Centroids:\n",
      " [[-0.05628791  0.87184105  0.44934798  0.96082045  1.0031823   0.50752431\n",
      "   0.03354124 -1.02213711 -0.96784819]\n",
      " [ 0.03688095 -0.5712475  -0.29442168 -0.62954856 -0.65730489 -0.33253996\n",
      "  -0.02197689  0.66972446  0.63415328]]\n"
     ]
    }
   ],
   "source": [
    "kmeans_model = KMeans(n_clusters = 2, max_iter=200, random_state=0)\n",
    "kmeans_model.fit(scaled_dataframe)\n",
    "centroids = kmeans_model.cluster_centers_\n",
    "print(\"Centroids:\\n\", centroids)"
   ]
  },
  {
   "cell_type": "code",
   "execution_count": 77,
   "metadata": {
    "scrolled": true
   },
   "outputs": [
    {
     "data": {
      "text/plain": [
       "array([1, 1, 1, ..., 0, 0, 0], dtype=int32)"
      ]
     },
     "execution_count": 77,
     "metadata": {},
     "output_type": "execute_result"
    }
   ],
   "source": [
    "#labels corresponding to those clusters\n",
    "kmeans_model.labels_"
   ]
  },
  {
   "cell_type": "code",
   "execution_count": 78,
   "metadata": {},
   "outputs": [
    {
     "name": "stdout",
     "output_type": "stream",
     "text": [
      "0.8381742738589212 0.9463986599664992\n"
     ]
    }
   ],
   "source": [
    "#accuracy of clustering corresponding to those clusters\n",
    "from sklearn.metrics import accuracy_score, precision_score\n",
    "\n",
    "file_path = '/Users/chiaradraghini/Documents/iot_wi_project/data/dataset/'\n",
    "data_for_persona = pd.read_csv(file_path+'Dataset_iotwi_persona.csv', sep = \";\") #a column \"Persona\" with \"truth table\" was added\n",
    "data_for_persona.drop(['Unnamed: 0'], axis=1, inplace=True)\n",
    "persona = data_for_persona[\"Persona\"]\n",
    "accuracy = accuracy_score(kmeans_model.labels_, persona)\n",
    "precision = precision_score(kmeans_model.labels_, persona)\n",
    "print(accuracy, precision)\n",
    "#Accuracy is the ratio of correctly predicted observation to the total observations"
   ]
  },
  {
   "cell_type": "code",
   "execution_count": 79,
   "metadata": {},
   "outputs": [
    {
     "name": "stdout",
     "output_type": "stream",
     "text": [
      "[[445 163]\n",
      " [ 32 565]]\n"
     ]
    }
   ],
   "source": [
    "from sklearn import metrics\n",
    "print(metrics.confusion_matrix(persona, kmeans_model.labels_,))\n",
    "conf_matrix = metrics.confusion_matrix(persona, kmeans_model.labels_)"
   ]
  },
  {
   "cell_type": "code",
   "execution_count": 80,
   "metadata": {},
   "outputs": [
    {
     "data": {
      "image/png": "[encoded data removed]",
      "text/plain": [
       "<Figure size 432x432 with 1 Axes>"
      ]
     },
     "metadata": {
      "needs_background": "light"
     },
     "output_type": "display_data"
    }
   ],
   "source": [
    "from mlxtend.plotting import plot_confusion_matrix\n",
    "fig, ax = plot_confusion_matrix(conf_mat=conf_matrix, figsize=(6, 6), cmap=plt.cm.Blues)\n",
    "plt.xlabel('Predictions', fontsize=18, color = \"white\")\n",
    "plt.ylabel('Actuals', fontsize=18, color = \"white\")\n",
    "plt.title('Confusion Matrix', fontsize=18, color = \"white\")\n",
    "plt.show()"
   ]
  },
  {
   "cell_type": "code",
   "execution_count": 81,
   "metadata": {},
   "outputs": [
    {
     "name": "stdout",
     "output_type": "stream",
     "text": [
      "              precision    recall  f1-score   support\n",
      "\n",
      "           0       0.93      0.73      0.82       608\n",
      "           1       0.78      0.95      0.85       597\n",
      "\n",
      "    accuracy                           0.84      1205\n",
      "   macro avg       0.85      0.84      0.84      1205\n",
      "weighted avg       0.86      0.84      0.84      1205\n",
      "\n"
     ]
    }
   ],
   "source": [
    "print(metrics.classification_report(persona, kmeans_model.labels_))\n",
    "#Precision is the ratio of correctly predicted positive observations to the total predicted positive observations\n",
    "#Recall is how many of the true positives were recalled (found)\n",
    "#F1 Score is the weighted average of Precision and Recall\n",
    "#Support is the number of actual occurrences of the class in the specified dataset\n",
    "report = metrics.classification_report(persona, kmeans_model.labels_, output_dict=True)\n",
    "report_df = pd.DataFrame(report).transpose()"
   ]
  },
  {
   "cell_type": "code",
   "execution_count": 82,
   "metadata": {},
   "outputs": [],
   "source": [
    "dataframe[\"Cluster\"] = kmeans_model.labels_\n",
    "dataframe[\"Persona\"] = persona\n",
    "dataframe.to_csv(\"/Users/chiaradraghini/Documents/iot_wi_project/data/results_kmeans/Clustering.csv\")\n",
    "report_df.to_csv(\"/Users/chiaradraghini/Documents/iot_wi_project/data/results_kmeans/Metrics_report.csv\")"
   ]
  }
 ],
 "metadata": {
  "kernelspec": {
   "display_name": "Python 3",
   "language": "python",
   "name": "python3"
  },
  "language_info": {
   "codemirror_mode": {
    "name": "ipython",
    "version": 3
   },
   "file_extension": ".py",
   "mimetype": "text/x-python",
   "name": "python",
   "nbconvert_exporter": "python",
   "pygments_lexer": "ipython3",
   "version": "3.8.5"
  }
 },
 "nbformat": 4,
 "nbformat_minor": 4
}
